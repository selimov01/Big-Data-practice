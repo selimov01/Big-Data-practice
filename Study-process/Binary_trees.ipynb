{
 "cells": [
  {
   "cell_type": "markdown",
   "metadata": {},
   "source": [
    "Задание 1. Постройте классификатор на основе дерева"
   ]
  },
  {
   "cell_type": "code",
   "execution_count": 144,
   "metadata": {},
   "outputs": [],
   "source": [
    "import pandas as pd\n",
    "import numpy as np\n",
    "import seaborn as sns\n",
    "import matplotlib.pyplot as plt\n",
    "\n",
    "from sklearn.model_selection import train_test_split\n",
    "from sklearn.tree import DecisionTreeClassifier\n",
    "from sklearn import tree\n",
    "from sklearn.metrics import classification_report, confusion_matrix"
   ]
  },
  {
   "cell_type": "code",
   "execution_count": null,
   "metadata": {},
   "outputs": [],
   "source": [
    "# Датасет для построения классификатора\n",
    "\n",
    "dataset = np.array([[-1, -1], [-2, -1], [-3, -2], [1, 1], [2, 1], [3, 2]])\n",
    "target = [0, 0, 0, 1, 1, 1]"
   ]
  },
  {
   "cell_type": "code",
   "execution_count": 169,
   "metadata": {},
   "outputs": [
    {
     "name": "stdout",
     "output_type": "stream",
     "text": [
      "[Text(0.5, 0.75, 'x[0] <= 1.0\\ngini = 0.375\\nsamples = 4\\nvalue = [3, 1]'), Text(0.25, 0.25, 'gini = 0.0\\nsamples = 3\\nvalue = [3, 0]'), Text(0.375, 0.5, 'True  '), Text(0.75, 0.25, 'gini = 0.0\\nsamples = 1\\nvalue = [0, 1]'), Text(0.625, 0.5, '  False')]\n",
      "[[0 0]\n",
      " [1 1]]\n",
      "              precision    recall  f1-score   support\n",
      "\n",
      "           0       0.00      0.00      0.00         0\n",
      "           1       1.00      0.50      0.67         2\n",
      "\n",
      "    accuracy                           0.50         2\n",
      "   macro avg       0.50      0.25      0.33         2\n",
      "weighted avg       1.00      0.50      0.67         2\n",
      "\n"
     ]
    },
    {
     "name": "stderr",
     "output_type": "stream",
     "text": [
      "c:\\Users\\selimov012\\AppData\\Local\\Programs\\Python\\Python312\\Lib\\site-packages\\sklearn\\metrics\\_classification.py:1565: UndefinedMetricWarning: Recall is ill-defined and being set to 0.0 in labels with no true samples. Use `zero_division` parameter to control this behavior.\n",
      "  _warn_prf(average, modifier, f\"{metric.capitalize()} is\", len(result))\n",
      "c:\\Users\\selimov012\\AppData\\Local\\Programs\\Python\\Python312\\Lib\\site-packages\\sklearn\\metrics\\_classification.py:1565: UndefinedMetricWarning: Recall is ill-defined and being set to 0.0 in labels with no true samples. Use `zero_division` parameter to control this behavior.\n",
      "  _warn_prf(average, modifier, f\"{metric.capitalize()} is\", len(result))\n",
      "c:\\Users\\selimov012\\AppData\\Local\\Programs\\Python\\Python312\\Lib\\site-packages\\sklearn\\metrics\\_classification.py:1565: UndefinedMetricWarning: Recall is ill-defined and being set to 0.0 in labels with no true samples. Use `zero_division` parameter to control this behavior.\n",
      "  _warn_prf(average, modifier, f\"{metric.capitalize()} is\", len(result))\n"
     ]
    },
    {
     "data": {
      "image/png": "[encoded data removed]",
      "text/plain": [
       "<Figure size 640x480 with 1 Axes>"
      ]
     },
     "metadata": {},
     "output_type": "display_data"
    }
   ],
   "source": [
    "X_train, X_test, y_train, y_test = train_test_split(dataset, target, test_size=0.20)\n",
    "\n",
    "classifier = DecisionTreeClassifier()\n",
    "classifier.fit(X_train, y_train)\n",
    "\n",
    "print(tree.plot_tree(classifier))\n",
    "\n",
    "y_pred = classifier.predict(X_test)\n",
    "\n",
    "print(confusion_matrix(y_test, y_pred))\n",
    "print(classification_report(y_test, y_pred))"
   ]
  },
  {
   "cell_type": "markdown",
   "metadata": {},
   "source": [
    "Задание 2. Постройте модель регрессии для данных из предыдущей работы. Постройте прогноз. Оцените точность модели"
   ]
  },
  {
   "cell_type": "code",
   "execution_count": 190,
   "metadata": {},
   "outputs": [],
   "source": [
    "import pandas as pd\n",
    "import numpy as np\n",
    "import matplotlib.pyplot as plt\n",
    "\n",
    "from sklearn.tree import DecisionTreeRegressor\n",
    "from sklearn import tree\n",
    "from sklearn import metrics"
   ]
  },
  {
   "cell_type": "code",
   "execution_count": null,
   "metadata": {},
   "outputs": [
    {
     "data": {
      "text/html": [
       "<div>\n",
       "<style scoped>\n",
       "    .dataframe tbody tr th:only-of-type {\n",
       "        vertical-align: middle;\n",
       "    }\n",
       "\n",
       "    .dataframe tbody tr th {\n",
       "        vertical-align: top;\n",
       "    }\n",
       "\n",
       "    .dataframe thead th {\n",
       "        text-align: right;\n",
       "    }\n",
       "</style>\n",
       "<table border=\"1\" class=\"dataframe\">\n",
       "  <thead>\n",
       "    <tr style=\"text-align: right;\">\n",
       "      <th></th>\n",
       "      <th>Petrol_tax</th>\n",
       "      <th>Average_income</th>\n",
       "      <th>Paved_Highways</th>\n",
       "      <th>Population_Driver_licence(%)</th>\n",
       "      <th>Petrol_Consumption</th>\n",
       "    </tr>\n",
       "  </thead>\n",
       "  <tbody>\n",
       "    <tr>\n",
       "      <th>count</th>\n",
       "      <td>48.000000</td>\n",
       "      <td>48.000000</td>\n",
       "      <td>48.000000</td>\n",
       "      <td>48.000000</td>\n",
       "      <td>48.000000</td>\n",
       "    </tr>\n",
       "    <tr>\n",
       "      <th>mean</th>\n",
       "      <td>7.668333</td>\n",
       "      <td>4241.833333</td>\n",
       "      <td>5565.416667</td>\n",
       "      <td>0.570333</td>\n",
       "      <td>576.770833</td>\n",
       "    </tr>\n",
       "    <tr>\n",
       "      <th>std</th>\n",
       "      <td>0.950770</td>\n",
       "      <td>573.623768</td>\n",
       "      <td>3491.507166</td>\n",
       "      <td>0.055470</td>\n",
       "      <td>111.885816</td>\n",
       "    </tr>\n",
       "    <tr>\n",
       "      <th>min</th>\n",
       "      <td>5.000000</td>\n",
       "      <td>3063.000000</td>\n",
       "      <td>431.000000</td>\n",
       "      <td>0.451000</td>\n",
       "      <td>344.000000</td>\n",
       "    </tr>\n",
       "    <tr>\n",
       "      <th>25%</th>\n",
       "      <td>7.000000</td>\n",
       "      <td>3739.000000</td>\n",
       "      <td>3110.250000</td>\n",
       "      <td>0.529750</td>\n",
       "      <td>509.500000</td>\n",
       "    </tr>\n",
       "    <tr>\n",
       "      <th>50%</th>\n",
       "      <td>7.500000</td>\n",
       "      <td>4298.000000</td>\n",
       "      <td>4735.500000</td>\n",
       "      <td>0.564500</td>\n",
       "      <td>568.500000</td>\n",
       "    </tr>\n",
       "    <tr>\n",
       "      <th>75%</th>\n",
       "      <td>8.125000</td>\n",
       "      <td>4578.750000</td>\n",
       "      <td>7156.000000</td>\n",
       "      <td>0.595250</td>\n",
       "      <td>632.750000</td>\n",
       "    </tr>\n",
       "    <tr>\n",
       "      <th>max</th>\n",
       "      <td>10.000000</td>\n",
       "      <td>5342.000000</td>\n",
       "      <td>17782.000000</td>\n",
       "      <td>0.724000</td>\n",
       "      <td>968.000000</td>\n",
       "    </tr>\n",
       "  </tbody>\n",
       "</table>\n",
       "</div>"
      ],
      "text/plain": [
       "       Petrol_tax  Average_income  Paved_Highways  \\\n",
       "count   48.000000       48.000000       48.000000   \n",
       "mean     7.668333     4241.833333     5565.416667   \n",
       "std      0.950770      573.623768     3491.507166   \n",
       "min      5.000000     3063.000000      431.000000   \n",
       "25%      7.000000     3739.000000     3110.250000   \n",
       "50%      7.500000     4298.000000     4735.500000   \n",
       "75%      8.125000     4578.750000     7156.000000   \n",
       "max     10.000000     5342.000000    17782.000000   \n",
       "\n",
       "       Population_Driver_licence(%)  Petrol_Consumption  \n",
       "count                     48.000000           48.000000  \n",
       "mean                       0.570333          576.770833  \n",
       "std                        0.055470          111.885816  \n",
       "min                        0.451000          344.000000  \n",
       "25%                        0.529750          509.500000  \n",
       "50%                        0.564500          568.500000  \n",
       "75%                        0.595250          632.750000  \n",
       "max                        0.724000          968.000000  "
      ]
     },
     "execution_count": 196,
     "metadata": {},
     "output_type": "execute_result"
    }
   ],
   "source": [
    "url = r'https://raw.githubusercontent.com/likarajo/petrol_consumption/master/data/petrol_consumption.csv'\n",
    "dataset = pd.read_csv(url)\n",
    "\n",
    "# Исследуем датасет\n",
    "dataset.describe()"
   ]
  },
  {
   "cell_type": "code",
   "execution_count": null,
   "metadata": {},
   "outputs": [
    {
     "data": {
      "image/png": "[encoded data removed]",
      "text/plain": [
       "<Figure size 640x480 with 1 Axes>"
      ]
     },
     "metadata": {},
     "output_type": "display_data"
    }
   ],
   "source": [
    "# Точечная диаграмма\n",
    "plt.scatter(dataset['Population_Driver_licence(%)'], dataset['Petrol_Consumption'])\n",
    "\n",
    "plt.xlabel('Количество пользователей (%)')\n",
    "plt.ylabel('Потребление бензина')\n",
    "\n",
    "plt.show()"
   ]
  },
  {
   "cell_type": "code",
   "execution_count": null,
   "metadata": {},
   "outputs": [
    {
     "name": "stdout",
     "output_type": "stream",
     "text": [
      "[[9.0000e+00 3.5710e+03 1.9760e+03 5.2500e-01]\n",
      " [9.0000e+00 4.0920e+03 1.2500e+03 5.7200e-01]\n",
      " [9.0000e+00 3.8650e+03 1.5860e+03 5.8000e-01]\n",
      " [7.5000e+00 4.8700e+03 2.3510e+03 5.2900e-01]\n",
      " [8.0000e+00 4.3990e+03 4.3100e+02 5.4400e-01]\n",
      " [1.0000e+01 5.3420e+03 1.3330e+03 5.7100e-01]\n",
      " [8.0000e+00 5.3190e+03 1.1868e+04 4.5100e-01]\n",
      " [8.0000e+00 5.1260e+03 2.1380e+03 5.5300e-01]\n",
      " [8.0000e+00 4.4470e+03 8.5770e+03 5.2900e-01]\n",
      " [7.0000e+00 4.5120e+03 8.5070e+03 5.5200e-01]\n",
      " [8.0000e+00 4.3910e+03 5.9390e+03 5.3000e-01]\n",
      " [7.5000e+00 5.1260e+03 1.4186e+04 5.2500e-01]\n",
      " [7.0000e+00 4.8170e+03 6.9300e+03 5.7400e-01]\n",
      " [7.0000e+00 4.2070e+03 6.5800e+03 5.4500e-01]\n",
      " [7.0000e+00 4.3320e+03 8.1590e+03 6.0800e-01]\n",
      " [7.0000e+00 4.3180e+03 1.0340e+04 5.8600e-01]\n",
      " [7.0000e+00 4.2060e+03 8.5080e+03 5.7200e-01]\n",
      " [7.0000e+00 3.7180e+03 4.7250e+03 5.4000e-01]\n",
      " [7.0000e+00 4.7160e+03 5.9150e+03 7.2400e-01]\n",
      " [8.5000e+00 4.3410e+03 6.0100e+03 6.7700e-01]\n",
      " [7.0000e+00 4.5930e+03 7.8340e+03 6.6300e-01]\n",
      " [8.0000e+00 4.9830e+03 6.0200e+02 6.0200e-01]\n",
      " [9.0000e+00 4.8970e+03 2.4490e+03 5.1100e-01]\n",
      " [9.0000e+00 4.2580e+03 4.6860e+03 5.1700e-01]\n",
      " [8.5000e+00 4.5740e+03 2.6190e+03 5.5100e-01]\n",
      " [9.0000e+00 3.7210e+03 4.7460e+03 5.4400e-01]\n",
      " [8.0000e+00 3.4480e+03 5.3990e+03 5.4800e-01]\n",
      " [7.5000e+00 3.8460e+03 9.0610e+03 5.7900e-01]\n",
      " [8.0000e+00 4.1880e+03 5.9750e+03 5.6300e-01]\n",
      " [9.0000e+00 3.6010e+03 4.6500e+03 4.9300e-01]\n",
      " [7.0000e+00 3.6400e+03 6.9050e+03 5.1800e-01]\n",
      " [7.0000e+00 3.3330e+03 6.5940e+03 5.1300e-01]\n",
      " [8.0000e+00 3.0630e+03 6.5240e+03 5.7800e-01]\n",
      " [7.5000e+00 3.3570e+03 4.1210e+03 5.4700e-01]\n",
      " [8.0000e+00 3.5280e+03 3.4950e+03 4.8700e-01]\n",
      " [6.5800e+00 3.8020e+03 7.8340e+03 6.2900e-01]\n",
      " [5.0000e+00 4.0450e+03 1.7782e+04 5.6600e-01]\n",
      " [7.0000e+00 3.8970e+03 6.3850e+03 5.8600e-01]\n",
      " [8.5000e+00 3.6350e+03 3.2740e+03 6.6300e-01]\n",
      " [7.0000e+00 4.3450e+03 3.9050e+03 6.7200e-01]\n",
      " [7.0000e+00 4.4490e+03 4.6390e+03 6.2600e-01]\n",
      " [7.0000e+00 3.6560e+03 3.9850e+03 5.6300e-01]\n",
      " [7.0000e+00 4.3000e+03 3.6350e+03 6.0300e-01]\n",
      " [7.0000e+00 3.7450e+03 2.6110e+03 5.0800e-01]\n",
      " [6.0000e+00 5.2150e+03 2.3020e+03 6.7200e-01]\n",
      " [9.0000e+00 4.4760e+03 3.9420e+03 5.7100e-01]\n",
      " [7.0000e+00 4.2960e+03 4.0830e+03 6.2300e-01]\n",
      " [7.0000e+00 5.0020e+03 9.7940e+03 5.9300e-01]]\n",
      "[3571 4092 3865 4870 4399 5342 5319 5126 4447 4512 4391 5126 4817 4207\n",
      " 4332 4318 4206 3718 4716 4341 4593 4983 4897 4258 4574 3721 3448 3846\n",
      " 4188 3601 3640 3333 3063 3357 3528 3802 4045 3897 3635 4345 4449 3656\n",
      " 4300 3745 5215 4476 4296 5002]\n"
     ]
    },
    {
     "data": {
      "text/plain": [
       "[Text(0.48726851851851855, 0.9375, 'x[1] <= 4396.0\\nsquared_error = 288278.46\\nsamples = 38\\nvalue = 4317.526'),\n",
       " Text(0.22916666666666666, 0.8125, 'x[1] <= 3955.0\\nsquared_error = 103912.083\\nsamples = 23\\nvalue = 3964.217'),\n",
       " Text(0.3582175925925926, 0.875, 'True  '),\n",
       " Text(0.08796296296296297, 0.6875, 'x[1] <= 3464.0\\nsquared_error = 28944.0\\nsamples = 11\\nvalue = 3659.0'),\n",
       " Text(0.037037037037037035, 0.5625, 'x[2] <= 5357.5\\nsquared_error = 144.0\\nsamples = 2\\nvalue = 3345.0'),\n",
       " Text(0.018518518518518517, 0.4375, 'squared_error = 0.0\\nsamples = 1\\nvalue = 3357.0'),\n",
       " Text(0.05555555555555555, 0.4375, 'squared_error = 0.0\\nsamples = 1\\nvalue = 3333.0'),\n",
       " Text(0.1388888888888889, 0.5625, 'x[1] <= 3773.5\\nsquared_error = 8564.84\\nsamples = 9\\nvalue = 3728.778'),\n",
       " Text(0.09259259259259259, 0.4375, 'x[1] <= 3687.0\\nsquared_error = 3606.556\\nsamples = 6\\nvalue = 3674.333'),\n",
       " Text(0.05555555555555555, 0.3125, 'x[2] <= 2625.0\\nsquared_error = 1306.889\\nsamples = 3\\nvalue = 3620.667'),\n",
       " Text(0.037037037037037035, 0.1875, 'squared_error = 0.0\\nsamples = 1\\nvalue = 3571.0'),\n",
       " Text(0.07407407407407407, 0.1875, 'x[3] <= 0.613\\nsquared_error = 110.25\\nsamples = 2\\nvalue = 3645.5'),\n",
       " Text(0.05555555555555555, 0.0625, 'squared_error = 0.0\\nsamples = 1\\nvalue = 3656.0'),\n",
       " Text(0.09259259259259259, 0.0625, 'squared_error = 0.0\\nsamples = 1\\nvalue = 3635.0'),\n",
       " Text(0.12962962962962962, 0.3125, 'x[2] <= 3668.0\\nsquared_error = 146.0\\nsamples = 3\\nvalue = 3728.0'),\n",
       " Text(0.1111111111111111, 0.1875, 'squared_error = 0.0\\nsamples = 1\\nvalue = 3745.0'),\n",
       " Text(0.14814814814814814, 0.1875, 'x[0] <= 8.0\\nsquared_error = 2.25\\nsamples = 2\\nvalue = 3719.5'),\n",
       " Text(0.12962962962962962, 0.0625, 'squared_error = 0.0\\nsamples = 1\\nvalue = 3718.0'),\n",
       " Text(0.16666666666666666, 0.0625, 'squared_error = 0.0\\nsamples = 1\\nvalue = 3721.0'),\n",
       " Text(0.18518518518518517, 0.4375, 'x[0] <= 7.04\\nsquared_error = 696.222\\nsamples = 3\\nvalue = 3837.667'),\n",
       " Text(0.16666666666666666, 0.3125, 'squared_error = 0.0\\nsamples = 1\\nvalue = 3802.0'),\n",
       " Text(0.2037037037037037, 0.3125, 'x[2] <= 5323.5\\nsquared_error = 90.25\\nsamples = 2\\nvalue = 3855.5'),\n",
       " Text(0.18518518518518517, 0.1875, 'squared_error = 0.0\\nsamples = 1\\nvalue = 3865.0'),\n",
       " Text(0.2222222222222222, 0.1875, 'squared_error = 0.0\\nsamples = 1\\nvalue = 3846.0'),\n",
       " Text(0.37037037037037035, 0.6875, 'x[1] <= 4232.5\\nsquared_error = 8960.0\\nsamples = 12\\nvalue = 4244.0'),\n",
       " Text(0.2962962962962963, 0.5625, 'x[1] <= 4140.0\\nsquared_error = 4437.84\\nsamples = 5\\nvalue = 4147.6'),\n",
       " Text(0.25925925925925924, 0.4375, 'x[0] <= 7.0\\nsquared_error = 552.25\\nsamples = 2\\nvalue = 4068.5'),\n",
       " Text(0.24074074074074073, 0.3125, 'squared_error = 0.0\\nsamples = 1\\nvalue = 4045.0'),\n",
       " Text(0.2777777777777778, 0.3125, 'squared_error = 0.0\\nsamples = 1\\nvalue = 4092.0'),\n",
       " Text(0.3333333333333333, 0.4375, 'x[1] <= 4197.0\\nsquared_error = 76.222\\nsamples = 3\\nvalue = 4200.333'),\n",
       " Text(0.3148148148148148, 0.3125, 'squared_error = 0.0\\nsamples = 1\\nvalue = 4188.0'),\n",
       " Text(0.35185185185185186, 0.3125, 'x[3] <= 0.559\\nsquared_error = 0.25\\nsamples = 2\\nvalue = 4206.5'),\n",
       " Text(0.3333333333333333, 0.1875, 'squared_error = 0.0\\nsamples = 1\\nvalue = 4207.0'),\n",
       " Text(0.37037037037037035, 0.1875, 'squared_error = 0.0\\nsamples = 1\\nvalue = 4206.0'),\n",
       " Text(0.4444444444444444, 0.5625, 'x[1] <= 4309.0\\nsquared_error = 810.98\\nsamples = 7\\nvalue = 4312.857'),\n",
       " Text(0.4074074074074074, 0.4375, 'x[1] <= 4277.0\\nsquared_error = 358.222\\nsamples = 3\\nvalue = 4284.667'),\n",
       " Text(0.3888888888888889, 0.3125, 'squared_error = 0.0\\nsamples = 1\\nvalue = 4258.0'),\n",
       " Text(0.42592592592592593, 0.3125, 'x[3] <= 0.613\\nsquared_error = 4.0\\nsamples = 2\\nvalue = 4298.0'),\n",
       " Text(0.4074074074074074, 0.1875, 'squared_error = 0.0\\nsamples = 1\\nvalue = 4300.0'),\n",
       " Text(0.4444444444444444, 0.1875, 'squared_error = 0.0\\nsamples = 1\\nvalue = 4296.0'),\n",
       " Text(0.48148148148148145, 0.4375, 'x[1] <= 4325.0\\nsquared_error = 107.5\\nsamples = 4\\nvalue = 4334.0'),\n",
       " Text(0.46296296296296297, 0.3125, 'squared_error = 0.0\\nsamples = 1\\nvalue = 4318.0'),\n",
       " Text(0.5, 0.3125, 'x[3] <= 0.64\\nsquared_error = 29.556\\nsamples = 3\\nvalue = 4339.333'),\n",
       " Text(0.48148148148148145, 0.1875, 'squared_error = 0.0\\nsamples = 1\\nvalue = 4332.0'),\n",
       " Text(0.5185185185185185, 0.1875, 'x[3] <= 0.674\\nsquared_error = 4.0\\nsamples = 2\\nvalue = 4343.0'),\n",
       " Text(0.5, 0.0625, 'squared_error = 0.0\\nsamples = 1\\nvalue = 4345.0'),\n",
       " Text(0.5370370370370371, 0.0625, 'squared_error = 0.0\\nsamples = 1\\nvalue = 4341.0'),\n",
       " Text(0.7453703703703703, 0.8125, 'x[1] <= 4843.5\\nsquared_error = 86089.262\\nsamples = 15\\nvalue = 4859.267'),\n",
       " Text(0.6163194444444444, 0.875, '  False'),\n",
       " Text(0.6388888888888888, 0.6875, 'x[1] <= 4654.5\\nsquared_error = 15313.633\\nsamples = 7\\nvalue = 4590.714'),\n",
       " Text(0.5925925925925926, 0.5625, 'x[1] <= 4543.0\\nsquared_error = 3114.64\\nsamples = 5\\nvalue = 4520.4'),\n",
       " Text(0.5555555555555556, 0.4375, 'x[0] <= 7.5\\nsquared_error = 706.889\\nsamples = 3\\nvalue = 4478.333'),\n",
       " Text(0.5370370370370371, 0.3125, 'squared_error = 0.0\\nsamples = 1\\nvalue = 4512.0'),\n",
       " Text(0.5740740740740741, 0.3125, 'x[0] <= 8.5\\nsquared_error = 210.25\\nsamples = 2\\nvalue = 4461.5'),\n",
       " Text(0.5555555555555556, 0.1875, 'squared_error = 0.0\\nsamples = 1\\nvalue = 4447.0'),\n",
       " Text(0.5925925925925926, 0.1875, 'squared_error = 0.0\\nsamples = 1\\nvalue = 4476.0'),\n",
       " Text(0.6296296296296297, 0.4375, 'x[0] <= 7.75\\nsquared_error = 90.25\\nsamples = 2\\nvalue = 4583.5'),\n",
       " Text(0.6111111111111112, 0.3125, 'squared_error = 0.0\\nsamples = 1\\nvalue = 4593.0'),\n",
       " Text(0.6481481481481481, 0.3125, 'squared_error = 0.0\\nsamples = 1\\nvalue = 4574.0'),\n",
       " Text(0.6851851851851852, 0.5625, 'x[1] <= 4766.5\\nsquared_error = 2550.25\\nsamples = 2\\nvalue = 4766.5'),\n",
       " Text(0.6666666666666666, 0.4375, 'squared_error = 0.0\\nsamples = 1\\nvalue = 4716.0'),\n",
       " Text(0.7037037037037037, 0.4375, 'squared_error = 0.0\\nsamples = 1\\nvalue = 4817.0'),\n",
       " Text(0.8518518518518519, 0.6875, 'x[1] <= 5064.0\\nsquared_error = 29695.438\\nsamples = 8\\nvalue = 5094.25'),\n",
       " Text(0.7777777777777778, 0.5625, 'x[3] <= 0.561\\nsquared_error = 3106.5\\nsamples = 4\\nvalue = 4938.0'),\n",
       " Text(0.7407407407407407, 0.4375, 'x[2] <= 2400.0\\nsquared_error = 182.25\\nsamples = 2\\nvalue = 4883.5'),\n",
       " Text(0.7222222222222222, 0.3125, 'squared_error = 0.0\\nsamples = 1\\nvalue = 4870.0'),\n",
       " Text(0.7592592592592593, 0.3125, 'squared_error = 0.0\\nsamples = 1\\nvalue = 4897.0'),\n",
       " Text(0.8148148148148148, 0.4375, 'x[0] <= 7.5\\nsquared_error = 90.25\\nsamples = 2\\nvalue = 4992.5'),\n",
       " Text(0.7962962962962963, 0.3125, 'squared_error = 0.0\\nsamples = 1\\nvalue = 5002.0'),\n",
       " Text(0.8333333333333334, 0.3125, 'squared_error = 0.0\\nsamples = 1\\nvalue = 4983.0'),\n",
       " Text(0.9259259259259259, 0.5625, 'x[1] <= 5267.0\\nsquared_error = 7456.25\\nsamples = 4\\nvalue = 5250.5'),\n",
       " Text(0.8888888888888888, 0.4375, 'x[2] <= 8244.0\\nsquared_error = 1980.25\\nsamples = 2\\nvalue = 5170.5'),\n",
       " Text(0.8703703703703703, 0.3125, 'squared_error = 0.0\\nsamples = 1\\nvalue = 5215.0'),\n",
       " Text(0.9074074074074074, 0.3125, 'squared_error = 0.0\\nsamples = 1\\nvalue = 5126.0'),\n",
       " Text(0.9629629629629629, 0.4375, 'x[2] <= 6600.5\\nsquared_error = 132.25\\nsamples = 2\\nvalue = 5330.5'),\n",
       " Text(0.9444444444444444, 0.3125, 'squared_error = 0.0\\nsamples = 1\\nvalue = 5342.0'),\n",
       " Text(0.9814814814814815, 0.3125, 'squared_error = 0.0\\nsamples = 1\\nvalue = 5319.0')]"
      ]
     },
     "execution_count": 198,
     "metadata": {},
     "output_type": "execute_result"
    },
    {
     "data": {
      "image/png": "[encoded data removed]",
      "text/plain": [
       "<Figure size 640x480 with 1 Axes>"
      ]
     },
     "metadata": {},
     "output_type": "display_data"
    }
   ],
   "source": [
    "# Выделение выборки и обучение\n",
    "X = dataset.iloc[:, :-1].values\n",
    "y = dataset.iloc[:, 1].values\n",
    "\n",
    "print(X)\n",
    "print(y)\n",
    "\n",
    "X_train, X_test, y_train, y_test = train_test_split(X, y, test_size=0.2, random_state=0)\n",
    "\n",
    "# Алгоритм регрессии на основе дерева\n",
    "regressor = DecisionTreeRegressor()\n",
    "regressor.fit(X_train, y_train)\n",
    "\n",
    "# Строим диагноз модели\n",
    "y_pred = regressor.predict(X_test)\n",
    "\n",
    "tree.plot_tree(regressor)"
   ]
  },
  {
   "cell_type": "code",
   "execution_count": null,
   "metadata": {},
   "outputs": [
    {
     "data": {
      "text/html": [
       "<div>\n",
       "<style scoped>\n",
       "    .dataframe tbody tr th:only-of-type {\n",
       "        vertical-align: middle;\n",
       "    }\n",
       "\n",
       "    .dataframe tbody tr th {\n",
       "        vertical-align: top;\n",
       "    }\n",
       "\n",
       "    .dataframe thead th {\n",
       "        text-align: right;\n",
       "    }\n",
       "</style>\n",
       "<table border=\"1\" class=\"dataframe\">\n",
       "  <thead>\n",
       "    <tr style=\"text-align: right;\">\n",
       "      <th></th>\n",
       "      <th>Actual</th>\n",
       "      <th>Predicted</th>\n",
       "    </tr>\n",
       "  </thead>\n",
       "  <tbody>\n",
       "    <tr>\n",
       "      <th>0</th>\n",
       "      <td>3601</td>\n",
       "      <td>3571.0</td>\n",
       "    </tr>\n",
       "    <tr>\n",
       "      <th>1</th>\n",
       "      <td>4399</td>\n",
       "      <td>4476.0</td>\n",
       "    </tr>\n",
       "    <tr>\n",
       "      <th>2</th>\n",
       "      <td>3448</td>\n",
       "      <td>3357.0</td>\n",
       "    </tr>\n",
       "    <tr>\n",
       "      <th>3</th>\n",
       "      <td>3640</td>\n",
       "      <td>3635.0</td>\n",
       "    </tr>\n",
       "    <tr>\n",
       "      <th>4</th>\n",
       "      <td>3063</td>\n",
       "      <td>3357.0</td>\n",
       "    </tr>\n",
       "    <tr>\n",
       "      <th>5</th>\n",
       "      <td>3897</td>\n",
       "      <td>3846.0</td>\n",
       "    </tr>\n",
       "    <tr>\n",
       "      <th>6</th>\n",
       "      <td>3528</td>\n",
       "      <td>3635.0</td>\n",
       "    </tr>\n",
       "    <tr>\n",
       "      <th>7</th>\n",
       "      <td>4449</td>\n",
       "      <td>4476.0</td>\n",
       "    </tr>\n",
       "    <tr>\n",
       "      <th>8</th>\n",
       "      <td>5126</td>\n",
       "      <td>5342.0</td>\n",
       "    </tr>\n",
       "    <tr>\n",
       "      <th>9</th>\n",
       "      <td>4391</td>\n",
       "      <td>4332.0</td>\n",
       "    </tr>\n",
       "  </tbody>\n",
       "</table>\n",
       "</div>"
      ],
      "text/plain": [
       "   Actual  Predicted\n",
       "0    3601     3571.0\n",
       "1    4399     4476.0\n",
       "2    3448     3357.0\n",
       "3    3640     3635.0\n",
       "4    3063     3357.0\n",
       "5    3897     3846.0\n",
       "6    3528     3635.0\n",
       "7    4449     4476.0\n",
       "8    5126     5342.0\n",
       "9    4391     4332.0"
      ]
     },
     "execution_count": 192,
     "metadata": {},
     "output_type": "execute_result"
    }
   ],
   "source": [
    "# Сравниваем действительные данные с прогнозируемыми\n",
    "df = pd.DataFrame({'Actual': y_test, 'Predicted': y_pred})\n",
    "df"
   ]
  },
  {
   "cell_type": "code",
   "execution_count": null,
   "metadata": {},
   "outputs": [
    {
     "name": "stdout",
     "output_type": "stream",
     "text": [
      "Mean Squared Error: 16648.7\n",
      "Mean Absolute Error: 95.7\n",
      "2.2560999567796944\n"
     ]
    }
   ],
   "source": [
    "# Расчёт средней абсолютной и средеквадратичной ошибки регрессии\n",
    "\n",
    "print('Mean Squared Error:', metrics.mean_squared_error(y_test, y_pred))\n",
    "print('Mean Absolute Error:', metrics.mean_absolute_error(y_test, y_pred))\n",
    "\n",
    "# Точность модели\n",
    "print(metrics.mean_absolute_error(y_test, y_pred) / np.average(y) * 100)"
   ]
  }
 ],
 "metadata": {
  "kernelspec": {
   "display_name": "Python 3",
   "language": "python",
   "name": "python3"
  },
  "language_info": {
   "codemirror_mode": {
    "name": "ipython",
    "version": 3
   },
   "file_extension": ".py",
   "mimetype": "text/x-python",
   "name": "python",
   "nbconvert_exporter": "python",
   "pygments_lexer": "ipython3",
   "version": "3.12.4"
  }
 },
 "nbformat": 4,
 "nbformat_minor": 2
}
