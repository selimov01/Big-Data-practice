{
 "cells": [
  {
   "cell_type": "markdown",
   "id": "ab67e315",
   "metadata": {},
   "source": [
    "Задание 1. Классификатор k-ближайших соседей для набора данных ирисов Фишера"
   ]
  },
  {
   "cell_type": "code",
   "execution_count": 3,
   "id": "98d21f09",
   "metadata": {},
   "outputs": [],
   "source": [
    "from sklearn.neighbors import KNeighborsClassifier\n",
    "from sklearn.model_selection import train_test_split\n",
    "from sklearn.metrics import accuracy_score\n",
    "from matplotlib import pyplot as plt\n",
    "import numpy as np\n",
    "import seaborn as sns"
   ]
  },
  {
   "cell_type": "code",
   "execution_count": null,
   "id": "58dc9d3c",
   "metadata": {},
   "outputs": [],
   "source": [
    "# Загрузка датасета\n",
    "\n",
    "iris = sns.load_dataset('iris')\n",
    "plt.figure(figsize=(16,7))"
   ]
  },
  {
   "cell_type": "code",
   "execution_count": null,
   "id": "970cdd49",
   "metadata": {},
   "outputs": [],
   "source": [
    "# Левые графики \n",
    "\n",
    "# График зависимости ширины лепестка от его длины \n",
    "plt.subplot(121)\n",
    "sns.scatterplot(data=iris, x='petal_width', y ='petal_length', hue='species', s=70)\n",
    "\n",
    "# График зависимости для длины и ширины чашелистика\n",
    "plt.xlabel(\"Length of petal\")\n",
    "plt.ylabel('Width of petal')\n",
    "plt.legend()\n",
    "plt.grid()"
   ]
  },
  {
   "cell_type": "code",
   "execution_count": null,
   "id": "badd4922",
   "metadata": {},
   "outputs": [],
   "source": [
    "# Правые графики аналогично левым\n",
    "\n",
    "plt.subplot(122)\n",
    "sns.scatterplot(data=iris, x='sepal_width', y ='sepal_length', hue='species', s=70)\n",
    "plt.xlabel('Length of sepal')\n",
    "plt.ylabel('Width of sepal')\n",
    "plt.legend()\n",
    "plt.grid()\n",
    "plt.show"
   ]
  },
  {
   "cell_type": "code",
   "execution_count": null,
   "id": "1b251171",
   "metadata": {},
   "outputs": [],
   "source": [
    "# Делим датасет на обучающую и тестовую выборки в соотношении 80:20\n",
    "X_train, X_test, y_train, y_test = train_test_split(iris.iloc[:, :-1], \n",
    "                                                    iris.iloc[:, -1], test_size=0.15)\n",
    "X_train.shape, X_test.shape, y_train.shape, y_test.shape\n",
    "\n",
    "X_train.head()\n",
    "y_train.head()\n",
    "\n",
    "# Метод пяти ближайщих соседей\n",
    "model = KNeighborsClassifier(n_neighbors=5)\n",
    "model.fit(X_train, y_train)\n",
    "\n",
    "# Предсказание модели\n",
    "y_pred = model.predict(X_test)\n",
    "y_pred"
   ]
  },
  {
   "cell_type": "code",
   "execution_count": null,
   "id": "d271a383",
   "metadata": {},
   "outputs": [],
   "source": [
    "# Отражение полученного числа на графике\n",
    "\n",
    "plt.figure(figsize=(10,7))\n",
    "sns.scatterplot(data=iris, x='petal_width', y ='petal_length', hue='species', s=70)\n",
    "plt.legend(loc=2)\n",
    "plt.grid()\n",
    "\n",
    "# Перебираем объекты. Красный цвет - неправильная классификация объекта\n",
    "for i in range(len(y_test)):\n",
    "    if np.array(y_test)[i] != y_pred[i]:\n",
    "        plt.scatter(X_test.iloc[i,3], X_test.iloc[i,2], color='red', s=150)\n",
    "\n",
    "# Качество модели \n",
    "print(f'accurancy: {accuracy_score(y_test, y_pred) :.3}')"
   ]
  }
 ],
 "metadata": {
  "kernelspec": {
   "display_name": "Python 3",
   "language": "python",
   "name": "python3"
  },
  "language_info": {
   "codemirror_mode": {
    "name": "ipython",
    "version": 3
   },
   "file_extension": ".py",
   "mimetype": "text/x-python",
   "name": "python",
   "nbconvert_exporter": "python",
   "pygments_lexer": "ipython3",
   "version": "3.12.4"
  }
 },
 "nbformat": 4,
 "nbformat_minor": 5
}
